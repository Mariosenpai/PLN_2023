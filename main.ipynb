{
 "cells": [
  {
   "cell_type": "code",
   "execution_count": 18,
   "outputs": [],
   "source": [
    "from collections import defaultdict\n",
    "import math"
   ],
   "metadata": {
    "collapsed": false,
    "ExecuteTime": {
     "end_time": "2023-10-10T13:27:59.863081600Z",
     "start_time": "2023-10-10T13:27:59.831653Z"
    }
   },
   "id": "7883ea4f74d42b22"
  },
  {
   "cell_type": "markdown",
   "source": [
    "# 1 - Para o trecho do poema Ainda que mal\n",
    "\n",
    "ainda que mal pergunte\n",
    "ainda que mal respondas\n",
    "ainda que mal te entenda\n",
    "ainda que mal repitas\n"
   ],
   "metadata": {
    "collapsed": false
   },
   "id": "f8032f2fe7b9ccf5"
  },
  {
   "cell_type": "markdown",
   "source": [
    "# Funções"
   ],
   "metadata": {
    "collapsed": false
   },
   "id": "97723af94e43dc6d"
  },
  {
   "cell_type": "code",
   "execution_count": 207,
   "outputs": [],
   "source": [
    "\n",
    "def generate_ngrams(text, n):\n",
    "    words = text.split()\n",
    "    bigrams = []\n",
    "    for i in range(len(words) - n + 1):\n",
    "        bigram =  \" \".join(words[i:i+n]) \n",
    "        bigrams.append(bigram) \n",
    "    \n",
    "    return bigrams\n",
    "\n",
    "def generate_bigram(text):\n",
    "    \n",
    "    words = text.split()\n",
    "    bigrams = []\n",
    "    for i in range(len(words) - 2 + 1):\n",
    "        bigram =  \" \".join(words[i:i+2]) \n",
    "        bigrams.append(bigram) \n",
    "    \n",
    "    return bigrams\n",
    "\n",
    "\n",
    "def calculate_log_probabilities(corpus):\n",
    "    #Pega a frequencia\n",
    "    bigram_freq = defaultdict(int)\n",
    "    for sentence in corpus:\n",
    "        words = sentence.split()\n",
    "        for i in range(len(words) - 1):\n",
    "            bigram = (words[i], words[i + 1])\n",
    "            bigram_freq[bigram] += 1\n",
    "    \n",
    "    \n",
    "    total_bigrams = sum(bigram_freq.values())\n",
    "    \n",
    "    #Calcula a probabilidade\n",
    "    bigram_probabilities = {}\n",
    "    for bigram, freq in bigram_freq.items():\n",
    "        probability = freq / total_bigrams\n",
    "        log_probability = math.log(probability)  \n",
    "        bigram_probabilities[bigram] = log_probability\n",
    "\n",
    "    for bigram, log_prob in bigram_probabilities.items():\n",
    "        print(f'Bigrama: {bigram}, Probabilidade Logarítmica: {log_prob}')\n",
    "\n",
    "\n",
    "def calculate_log_probabilidade_k(corpus, k):\n",
    "    bigram_freq = defaultdict(int)\n",
    "    for sentence in corpus:\n",
    "        words = sentence.split()\n",
    "        for i in range(len(words) - 1):\n",
    "            bigram = (words[i], words[i + 1])\n",
    "            bigram_freq[bigram] += 1\n",
    "    \n",
    "    total_bigrams = sum(bigram_freq.values())\n",
    "    \n",
    "    bigram_probabilities = {}\n",
    "    bp = {}\n",
    "    # Calcular a probabilidade logarítmica para cada bigrama com suavização Add-k\n",
    "    for bigram, freq in bigram_freq.items():\n",
    "        unigram_antecedent = bigram[0]\n",
    "        probability = (freq + k)  / total_bigrams + (k * len(unigram_antecedent))\n",
    "        log_probability = math.log(probability)  \n",
    "        bigram_probabilities[bigram] = log_probability\n",
    " \n",
    "        \n",
    "    print(f\"Probabilidades Logarítmicas com k={k}:\")\n",
    "    for bigram, log_prob in bigram_probabilities.items():\n",
    "        print(f\"Bigrama: '{bigram[0]} {bigram[1]}' - Log Probabilidade: {log_prob:.2f}\")\n",
    "        bp[bigram[0] +' '+ bigram[1]] = log_prob\n",
    "    \n",
    "    return bp\n",
    "\n",
    "\n",
    "def probabilidade_verso(bigrams_prob, text, mostrar=True):\n",
    "    # Sequência de palavras\n",
    "    sequence = generate_bigram(text)\n",
    "    \n",
    "    # Inicialize a probabilidade comum com 1.0 (inicialmente, multiplicamos por 1)\n",
    "    common_probability = 1.0\n",
    "    \n",
    "    # Calcular a probabilidade comum\n",
    "    for i in range(len(sequence) - 1):\n",
    "        bigram = sequence[i]\n",
    "        if mostrar:print(sequence[i])\n",
    "        \n",
    "        if bigram in [b for b in bigrams_prob]:\n",
    "            common_probability *= bigrams_prob[bigram]\n",
    "        else:\n",
    "            # Se o bigrama não estiver no corpus, defina a probabilidade como 0\n",
    "            common_probability = 0.0\n",
    "            break  # Saia do loop se encontrar um bigrama ausente\n",
    "    \n",
    "    # Imprimir a probabilidade comum\n",
    "    if mostrar: print(f'Probabilidade Comum da Sequência: {common_probability:.10f}')\n",
    "    return common_probability\n",
    "\n",
    "def perplexidade(frase,bigrams_prob ):\n",
    "\n",
    "    common_probability = probabilidade_verso(bigrams_prob, frase, False)\n",
    "    \n",
    "    perplexity = 1\n",
    "    \n",
    "    if common_probability != 0.0:\n",
    "        N = len(frase)\n",
    "        perplexity = pow(1 / common_probability, 1 / N)\n",
    "        \n",
    "    print(f'Perplexidade do Modelo: {perplexity:.4f}')"
   ],
   "metadata": {
    "collapsed": false,
    "ExecuteTime": {
     "end_time": "2023-10-10T14:49:38.292962400Z",
     "start_time": "2023-10-10T14:49:38.285985Z"
    }
   },
   "id": "f3c6f49da4f004d7"
  },
  {
   "cell_type": "markdown",
   "source": [
    "# Texto"
   ],
   "metadata": {
    "collapsed": false
   },
   "id": "c978846c768a5971"
  },
  {
   "cell_type": "code",
   "execution_count": 10,
   "outputs": [
    {
     "name": "stdout",
     "output_type": "stream",
     "text": [
      "ainda que mal pergunte ainda que mal respondas ainda que mal te entenda ainda que mal repitas\n"
     ]
    }
   ],
   "source": [
    "text = (\"ainda que mal pergunte \"\n",
    "        \"ainda que mal respondas \"\n",
    "        \"ainda que mal te entenda \"\n",
    "        \"ainda que mal repitas\")\n",
    "print(text)"
   ],
   "metadata": {
    "collapsed": false,
    "ExecuteTime": {
     "end_time": "2023-10-10T13:24:17.239044500Z",
     "start_time": "2023-10-10T13:24:17.223687600Z"
    }
   },
   "id": "6f159f29aa9e2b4c"
  },
  {
   "cell_type": "markdown",
   "source": [
    "A) Ache todos os bigramas do trecho"
   ],
   "metadata": {
    "collapsed": false
   },
   "id": "f350ddb3ddc367ab"
  },
  {
   "cell_type": "code",
   "execution_count": 206,
   "id": "initial_id",
   "metadata": {
    "collapsed": true,
    "ExecuteTime": {
     "end_time": "2023-10-10T14:40:56.922371200Z",
     "start_time": "2023-10-10T14:40:56.906709500Z"
    }
   },
   "outputs": [
    {
     "name": "stdout",
     "output_type": "stream",
     "text": [
      "ainda que\n",
      "que mal\n",
      "mal pergunte\n",
      "pergunte ainda\n",
      "ainda que\n",
      "que mal\n",
      "mal respondas\n",
      "respondas ainda\n",
      "ainda que\n",
      "que mal\n",
      "mal te\n",
      "te entenda\n",
      "entenda ainda\n",
      "ainda que\n",
      "que mal\n",
      "mal repitas\n"
     ]
    }
   ],
   "source": [
    "bigrams = generate_bigram(text)\n",
    "for b in bigrams:\n",
    "    print(b)"
   ]
  },
  {
   "cell_type": "markdown",
   "source": [
    "B) Calcule a probabilidade logarítmica de cada bigrama encontrado"
   ],
   "metadata": {
    "collapsed": false
   },
   "id": "a459d0445f50500d"
  },
  {
   "cell_type": "code",
   "execution_count": 115,
   "outputs": [
    {
     "name": "stdout",
     "output_type": "stream",
     "text": [
      "Bigrama: ('ainda', 'que'), Probabilidade Logarítmica: -1.3862943611198906\n",
      "Bigrama: ('que', 'mal'), Probabilidade Logarítmica: -1.3862943611198906\n",
      "Bigrama: ('mal', 'pergunte'), Probabilidade Logarítmica: -2.772588722239781\n",
      "Bigrama: ('pergunte', 'ainda'), Probabilidade Logarítmica: -2.772588722239781\n",
      "Bigrama: ('mal', 'respondas'), Probabilidade Logarítmica: -2.772588722239781\n",
      "Bigrama: ('respondas', 'ainda'), Probabilidade Logarítmica: -2.772588722239781\n",
      "Bigrama: ('mal', 'te'), Probabilidade Logarítmica: -2.772588722239781\n",
      "Bigrama: ('te', 'entenda'), Probabilidade Logarítmica: -2.772588722239781\n",
      "Bigrama: ('entenda', 'ainda'), Probabilidade Logarítmica: -2.772588722239781\n",
      "Bigrama: ('mal', 'repitas'), Probabilidade Logarítmica: -2.772588722239781\n"
     ]
    }
   ],
   "source": [
    "calculate_log_probabilities(bigrams)"
   ],
   "metadata": {
    "collapsed": false,
    "ExecuteTime": {
     "end_time": "2023-10-10T13:52:48.186577500Z",
     "start_time": "2023-10-10T13:52:48.177579300Z"
    }
   },
   "id": "8fef7ba6ea32c1b7"
  },
  {
   "cell_type": "markdown",
   "source": [
    "C) Faça a suavização com o método add-k com k=0, 1"
   ],
   "metadata": {
    "collapsed": false
   },
   "id": "d4e796ec8e442345"
  },
  {
   "cell_type": "code",
   "execution_count": 188,
   "outputs": [
    {
     "name": "stdout",
     "output_type": "stream",
     "text": [
      "Probabilidades Logarítmicas com k=1:\n",
      "Bigrama: 'ainda que' - Log Probabilidade: 1.67\n",
      "Bigrama: 'que mal' - Log Probabilidade: 1.20\n",
      "Bigrama: 'mal pergunte' - Log Probabilidade: 1.14\n",
      "Bigrama: 'pergunte ainda' - Log Probabilidade: 2.09\n",
      "Bigrama: 'mal respondas' - Log Probabilidade: 1.14\n",
      "Bigrama: 'respondas ainda' - Log Probabilidade: 2.21\n",
      "Bigrama: 'mal te' - Log Probabilidade: 1.14\n",
      "Bigrama: 'te entenda' - Log Probabilidade: 0.75\n",
      "Bigrama: 'entenda ainda' - Log Probabilidade: 1.96\n",
      "Bigrama: 'mal repitas' - Log Probabilidade: 1.14\n"
     ]
    }
   ],
   "source": [
    "bigrams_prob = calculate_log_probabilidade_k(bigrams, 1)"
   ],
   "metadata": {
    "collapsed": false,
    "ExecuteTime": {
     "end_time": "2023-10-10T14:31:00.951161200Z",
     "start_time": "2023-10-10T14:31:00.936162400Z"
    }
   },
   "id": "31cdebf58f16010a"
  },
  {
   "cell_type": "code",
   "execution_count": 379,
   "outputs": [
    {
     "data": {
      "text/plain": "{'ainda que': 1.6700625342505353,\n 'que mal': 1.1977031913123406,\n 'mal pergunte': 1.1394342831883648,\n 'pergunte ainda': 2.094945728215801,\n 'mal respondas': 1.1394342831883648,\n 'respondas ainda': 2.211017899468555,\n 'mal te': 1.1394342831883648,\n 'te entenda': 0.7537718023763802,\n 'entenda ainda': 1.9636097261547143,\n 'mal repitas': 1.1394342831883648}"
     },
     "execution_count": 379,
     "metadata": {},
     "output_type": "execute_result"
    }
   ],
   "source": [
    "bigrams_prob"
   ],
   "metadata": {
    "collapsed": false,
    "ExecuteTime": {
     "end_time": "2023-10-10T18:38:56.839493600Z",
     "start_time": "2023-10-10T18:38:56.828463400Z"
    }
   },
   "id": "d1cf49baffbfe7a3"
  },
  {
   "cell_type": "markdown",
   "source": [
    "D) Com o modelo de linguagem generalizado, calcule a probabilidade comum do verso \"ainda que mal insista\""
   ],
   "metadata": {
    "collapsed": false
   },
   "id": "c303769e01335dd"
  },
  {
   "cell_type": "code",
   "execution_count": 191,
   "outputs": [
    {
     "name": "stdout",
     "output_type": "stream",
     "text": [
      "ainda que\n",
      "que mal\n",
      "Probabilidade Comum da Sequência: 2.0002392270\n"
     ]
    },
    {
     "data": {
      "text/plain": "2.0002392269630414"
     },
     "execution_count": 191,
     "metadata": {},
     "output_type": "execute_result"
    }
   ],
   "source": [
    "probabilidade_verso(bigrams_prob, 'ainda que mal insista')"
   ],
   "metadata": {
    "collapsed": false,
    "ExecuteTime": {
     "end_time": "2023-10-10T14:31:25.488227100Z",
     "start_time": "2023-10-10T14:31:25.472602200Z"
    }
   },
   "id": "eb25ff62607d0e69"
  },
  {
   "cell_type": "markdown",
   "source": [
    "E) Calcule a perplexidade do modelo de linguagem generalizado utilizando o verso \"ainda que mal insista” como conjunto de teste."
   ],
   "metadata": {
    "collapsed": false
   },
   "id": "b21bd6b8d608e511"
  },
  {
   "cell_type": "code",
   "execution_count": 200,
   "outputs": [
    {
     "name": "stdout",
     "output_type": "stream",
     "text": [
      "Perplexidade do Modelo: 0.9675\n"
     ]
    }
   ],
   "source": [
    "perplexidade('ainda que mal insista', bigrams_prob)"
   ],
   "metadata": {
    "collapsed": false,
    "ExecuteTime": {
     "end_time": "2023-10-10T14:37:18.874248600Z",
     "start_time": "2023-10-10T14:37:18.858583800Z"
    }
   },
   "id": "22d791bf6a4930a8"
  },
  {
   "cell_type": "markdown",
   "source": [
    "# 2- Escolha um conjunto de textos  (poemas, letras de música, etc )\n"
   ],
   "metadata": {
    "collapsed": false
   },
   "id": "1dd55a3734d27d10"
  },
  {
   "cell_type": "code",
   "execution_count": 328,
   "outputs": [
    {
     "name": "stdout",
     "output_type": "stream",
     "text": [
      "sing, goddess, the wrath of achilles peleus' son, the ruinous wrath that\n",
      "brought on the achaians woes innumerable, and hurled down into hades\n",
      "many strong souls of heroes, and gave their bodies to be a prey to dogs\n",
      "and all winged fowls; and so the counsel of zeus wrought out its\n",
      "accomplishment from the day when first strife parted atreides king of\n",
      "men and noble achilles.\n",
      "\n",
      "who among the gods set the twain at strife and variance? apollo, the son\n",
      "of leto and of zeus; for he in anger at the king sent a sore plague upon\n",
      "the host, so that the folk began to perish, because atreides had done\n",
      "dishonour to chryses the priest. for the priest had come to the\n",
      "achaians' fleet ships to win his daughter's freedom, and brought a\n",
      "ransom beyond telling; and bare in his hands the fillet of apollo the\n",
      "far-darter upon a golden staff; and made his prayer unto all the\n",
      "achaians, and most of all to the two sons of atreus, orderers of the\n",
      "host; \"ye sons of atreus and all ye well-greaved achaians, now may the\n",
      "gods that dwell in the mansions of olympus grant you to lay waste the\n",
      "city of priam, and to fare happily homeward; only set ye my dear child\n",
      "free, and accept the ransom in reverence to the son of zeus, far-darting\n",
      "apollo.\"\n",
      "\n",
      "then all the other achaians cried assent, to reverence the priest and\n",
      "accept his goodly ransom; yet the thing pleased not the heart of\n",
      "agamemnon son of atreus, but he roughly sent him away, and laid stern\n",
      "charge upon him, saying: \"let me not find thee, old man, amid the hollow\n",
      "ships, whether tarrying now or returning again hereafter, lest the staff\n",
      "and fillet of the god avail thee naught. and her will i not set free;\n",
      "nay, ere that shall old age come on her in our house, in argos, far from\n",
      "her native land, where she shall ply the loom and serve my couch. but\n",
      "depart, provoke me not, that thou mayest the rather go in peace.\"\n",
      "\n",
      "so said he, and the old man was afraid and obeyed his word, and fared\n",
      "silently along the shore of the loud-sounding sea. then went that aged\n",
      "man apart and prayed aloud to king apollo, whom leto of the fair locks\n",
      "bare: \"hear me, god of the silver bow, that standest over chryse and\n",
      "holy killa, and rulest tenedos with might, o smintheus! if ever i built\n",
      "a temple gracious in thine eyes, or if ever i burnt to thee fat flesh of\n",
      "thighs of bulls or goats, fulfil thou this my desire; let the danaans\n",
      "pay by thine arrows for my tears.\"\n",
      "\n",
      "so spake he in prayer, and phoebus apollo heard him, and came down from\n",
      "the peaks of olympus wroth at heart, bearing on his shoulders his bow\n",
      "and covered quiver. and the arrows clanged upon his shoulders in wrath,\n",
      "as the god moved; and he descended like to night. then he sate him aloof\n",
      "from the ships, and let an arrow fly; and there was heard a dread\n",
      "clanging of the silver bow. first did the assail the mules and fleet\n",
      "dogs, but afterward, aiming at the men his piercing dart, he smote; and\n",
      "the pyres of the dead burnt continually in multitude.\n",
      "\n",
      "now for nine days ranged the god's shafts through the host; but on the\n",
      "tenth achilles summoned the folk to assembly, for in his mind did\n",
      "goddess hera of white arms put the thought, because she had pity on the\n",
      "danaans when she beheld them perishing. now when they had gathered and\n",
      "were met in assembly, then achilles fleet of foot stood up and spake\n",
      "among them: \"son of atreus, now deem i that we shall return wandering\n",
      "home again--if verily we might escape death--if war at once and\n",
      "pestilence must indeed ravage the achaians. but come, let us now inquire\n",
      "of some soothsayer or priest, yea, or an interpreter of dreams--seeing\n",
      "that a dream too is of zeus--who shall say wherefore phoebus apollo is\n",
      "so wroth, whether he blame us by reason of vow or hecatomb; if perchance\n",
      "he would accept the savour of lambs or unblemished goats, and so would\n",
      "take away the pestilence from us.\"\n",
      "\n",
      "so spake he and sate him down; and there stood up before them kalchas\n",
      "son of thestor, most excellent far of augurs, who knew both things that\n",
      "were and that should be and that had been before, and guided the ships\n",
      "of the achaians to ilios by his soothsaying that phoebus apollo bestowed\n",
      "on him. he of good intent made harangue and spake amid them: \"achilles,\n",
      "dear to zeus, thou biddest me tell the wrath of apollo, the king that\n",
      "smiteth afar. therefore will i speak; but do thou make covenant with me,\n",
      "and swear that verily with all thy heart thou wilt aid me both by word\n",
      "and deed. for of a truth i deem that i shall provoke one that ruleth all\n",
      "the argives with might, and whom the achaians obey. for a king is more\n",
      "of might when he is wroth with a meaner man; even though for the one day\n",
      "he swallow his anger, yet doth he still keep his displeasure thereafter\n",
      "in his breast till he accomplish it. consider thou, then, if thou wilt\n",
      "hold me safe.\"\n"
     ]
    }
   ],
   "source": [
    "corpus = ''\n",
    "# Exemplo de conjunto de dados de texto (corpus)\n",
    "with open(\"teste.txt\", 'r' ,encoding='utf8')as arquivo:\n",
    "    corpus += arquivo.read()\n",
    "print(corpus)"
   ],
   "metadata": {
    "collapsed": false,
    "ExecuteTime": {
     "end_time": "2023-10-10T17:05:10.147652400Z",
     "start_time": "2023-10-10T17:05:10.134411800Z"
    }
   },
   "id": "14d09972557deeb"
  },
  {
   "cell_type": "code",
   "execution_count": 405,
   "outputs": [],
   "source": [
    "# Função para criar bigrams a partir do texto\n",
    "def create_bigrams(text):\n",
    "    tokens = text.split()\n",
    "    bigrams = [(tokens[i], tokens[i + 1]) for i in range(len(tokens) - 1)]\n",
    "    return bigrams\n",
    "\n",
    "def create_dic_freq_k(bigrams, k, mostrar=True):\n",
    "    bigram_freq = defaultdict(int)\n",
    "    for bigram in bigrams:\n",
    "        if bigram in bigram_freq:\n",
    "            bigram_freq[bigram] += 1\n",
    "        else:\n",
    "            bigram_freq[bigram] = 1     \n",
    "    \n",
    "    total_bigrams = sum(bigram_freq.values())\n",
    "    \n",
    "    bigram_probabilities = {}\n",
    "    bp = {}\n",
    "    # Calcular a probabilidade logarítmica para cada bigrama com suavização Add-k\n",
    "    for bigram, freq in bigram_freq.items():\n",
    "        unigram_antecedent = bigram[0]\n",
    "        probability = (freq + k)  / total_bigrams + (k * len(unigram_antecedent))\n",
    "        log_probability = math.log(probability)  \n",
    "        bigram_probabilities[bigram] = log_probability\n",
    " \n",
    "        \n",
    "    if mostrar:print(f\"Probabilidades Logarítmicas com k={k}:\")\n",
    "    for bigram, log_prob in bigram_probabilities.items():\n",
    "        if mostrar:print(f\"Bigrama: '{bigram[0]} {bigram[1]}' - Log Probabilidade: {log_prob:.2f}\")\n",
    "        bp[(bigram[0] , bigram[1])] = log_prob\n",
    "    \n",
    "    return bp\n",
    "\n",
    "def get_max_dic(dic):\n",
    "    \n",
    "    #print(dic)\n",
    "    maior = 0\n",
    "    \n",
    "    for d in dic: \n",
    "        nd = dic[d]\n",
    "        for j in nd:\n",
    "            if maior < nd[j]:\n",
    "                maior = nd[j]\n",
    "        for j in nd:\n",
    "            if maior == nd[j]:\n",
    "                #print(j)\n",
    "                return j\n",
    "    return ''\n",
    "           \n",
    "          \n",
    "# Função para prever a próxima palavra com base nos bigrams\n",
    "def predict_next_word(word, bigram_freq):\n",
    "    possible_next_words = {}\n",
    "    vet = {}\n",
    "    for bigram, freq in bigram_freq.items():\n",
    "        #print(bigram[0])\n",
    "        if bigram[0] == word:\n",
    "            #print(freq)\n",
    "            possible_next_words[bigram[1]] = freq\n",
    "            vet[word] = possible_next_words\n",
    "    \n",
    "    if possible_next_words:\n",
    "        # d = [d for d in vet]\n",
    "        #print(vet)\n",
    "        return get_max_dic(vet)\n",
    "    else:\n",
    "        return None \n",
    "\n",
    "\n",
    "def prever_proxima_palavra(frist_word,qnt_token,bigram_freq):\n",
    "    c = 0\n",
    "    frase = f'{frist_word} '\n",
    "    while True:\n",
    "        next_word = predict_next_word(frist_word, bigram_freq)\n",
    "        \n",
    "        if next_word:\n",
    "            frase += next_word + ' '\n",
    "        else:\n",
    "            print(\"Não foi possível prever a próxima palavra.\")\n",
    "            break\n",
    "        frist_word = next_word\n",
    "        c+=1\n",
    "        if c >= qnt_token:break\n",
    "    \n",
    "    print(frase)"
   ],
   "metadata": {
    "collapsed": false,
    "ExecuteTime": {
     "end_time": "2023-10-10T18:47:03.598145500Z",
     "start_time": "2023-10-10T18:47:03.590127300Z"
    }
   },
   "id": "f5c4a2b262b08a30"
  },
  {
   "cell_type": "code",
   "execution_count": 408,
   "outputs": [
    {
     "name": "stdout",
     "output_type": "stream",
     "text": [
      "the achaians woes innumerable, and the achaians woes innumerable, and the achaians woes innumerable, and the achaians woes innumerable, and the achaians woes innumerable, and the achaians woes innumerable, and the achaians woes innumerable, and the achaians woes innumerable, and the achaians woes innumerable, and the achaians woes innumerable, and the achaians woes innumerable, and the achaians woes innumerable, and the achaians woes innumerable, and the achaians woes innumerable, and the achaians woes innumerable, and the achaians woes innumerable, and the achaians woes innumerable, and the achaians woes innumerable, and the achaians woes innumerable, and the achaians woes innumerable, and the achaians woes innumerable, and the achaians woes innumerable, and the achaians woes innumerable, and the achaians woes innumerable, and the achaians woes innumerable, and the achaians woes innumerable, and the achaians woes innumerable, and the achaians woes innumerable, and the achaians woes innumerable, and the achaians woes innumerable, and the achaians woes innumerable, and the achaians woes innumerable, and the achaians woes innumerable, and the achaians woes innumerable, and the achaians woes innumerable, and the achaians woes innumerable, and the achaians woes innumerable, and the achaians woes innumerable, and the achaians woes innumerable, and the achaians woes innumerable, and the \n"
     ]
    }
   ],
   "source": [
    "import random\n",
    "corpus = ''\n",
    "# Exemplo de conjunto de dados de texto (corpus)\n",
    "with open(\"teste.txt\", 'r', encoding='utf8')as arquivo:\n",
    "    corpus += arquivo.read()\n",
    "    \n",
    "# Criar bigrams a partir do corpus\n",
    "bigrams = create_bigrams(corpus)\n",
    "bigram_freq = create_dic_freq_k(bigrams, k=1,mostrar=False)\n",
    "\n",
    "#print(bigrams)\n",
    "\n",
    "# Prever a próxima palavra após \"O\"\n",
    "prever_proxima_palavra('the', 200,bigram_freq)\n"
   ],
   "metadata": {
    "collapsed": false,
    "ExecuteTime": {
     "end_time": "2023-10-10T18:47:22.840832Z",
     "start_time": "2023-10-10T18:47:22.814800300Z"
    }
   },
   "id": "621aef408a7efdbe"
  },
  {
   "cell_type": "code",
   "execution_count": 380,
   "outputs": [
    {
     "data": {
      "text/plain": "{('sing,', 'goddess,'): 1,\n ('goddess,', 'the'): 1,\n ('the', 'wrath'): 2,\n ('wrath', 'of'): 2,\n ('of', 'achilles'): 1,\n ('achilles', \"peleus'\"): 1,\n (\"peleus'\", 'son,'): 1,\n ('son,', 'the'): 1,\n ('the', 'ruinous'): 1,\n ('ruinous', 'wrath'): 1,\n ('wrath', 'that'): 1,\n ('that', 'brought'): 1,\n ('brought', 'on'): 1,\n ('on', 'the'): 3,\n ('the', 'achaians'): 3,\n ('achaians', 'woes'): 1,\n ('woes', 'innumerable,'): 1,\n ('innumerable,', 'and'): 1,\n ('and', 'hurled'): 1,\n ('hurled', 'down'): 1,\n ('down', 'into'): 1,\n ('into', 'hades'): 1,\n ('hades', 'many'): 1,\n ('many', 'strong'): 1,\n ('strong', 'souls'): 1,\n ('souls', 'of'): 1,\n ('of', 'heroes,'): 1,\n ('heroes,', 'and'): 1,\n ('and', 'gave'): 1,\n ('gave', 'their'): 1,\n ('their', 'bodies'): 1,\n ('bodies', 'to'): 1,\n ('to', 'be'): 1,\n ('be', 'a'): 1,\n ('a', 'prey'): 1,\n ('prey', 'to'): 1,\n ('to', 'dogs'): 1,\n ('dogs', 'and'): 1,\n ('and', 'all'): 2,\n ('all', 'winged'): 1,\n ('winged', 'fowls;'): 1,\n ('fowls;', 'and'): 1,\n ('and', 'so'): 2,\n ('so', 'the'): 1,\n ('the', 'counsel'): 1,\n ('counsel', 'of'): 1,\n ('of', 'zeus'): 1,\n ('zeus', 'wrought'): 1,\n ('wrought', 'out'): 1,\n ('out', 'its'): 1,\n ('its', 'accomplishment'): 1,\n ('accomplishment', 'from'): 1,\n ('from', 'the'): 3,\n ('the', 'day'): 1,\n ('day', 'when'): 1,\n ('when', 'first'): 1,\n ('first', 'strife'): 1,\n ('strife', 'parted'): 1,\n ('parted', 'atreides'): 1,\n ('atreides', 'king'): 1,\n ('king', 'of'): 1,\n ('of', 'men'): 1,\n ('men', 'and'): 1,\n ('and', 'noble'): 1,\n ('noble', 'achilles.'): 1,\n ('achilles.', 'who'): 1,\n ('who', 'among'): 1,\n ('among', 'the'): 1,\n ('the', 'gods'): 2,\n ('gods', 'set'): 1,\n ('set', 'the'): 1,\n ('the', 'twain'): 1,\n ('twain', 'at'): 1,\n ('at', 'strife'): 1,\n ('strife', 'and'): 1,\n ('and', 'variance?'): 1,\n ('variance?', 'apollo,'): 1,\n ('apollo,', 'the'): 2,\n ('the', 'son'): 2,\n ('son', 'of'): 4,\n ('of', 'leto'): 1,\n ('leto', 'and'): 1,\n ('and', 'of'): 1,\n ('of', 'zeus;'): 1,\n ('zeus;', 'for'): 1,\n ('for', 'he'): 1,\n ('he', 'in'): 2,\n ('in', 'anger'): 1,\n ('anger', 'at'): 1,\n ('at', 'the'): 2,\n ('the', 'king'): 2,\n ('king', 'sent'): 1,\n ('sent', 'a'): 1,\n ('a', 'sore'): 1,\n ('sore', 'plague'): 1,\n ('plague', 'upon'): 1,\n ('upon', 'the'): 1,\n ('the', 'host,'): 1,\n ('host,', 'so'): 1,\n ('so', 'that'): 1,\n ('that', 'the'): 1,\n ('the', 'folk'): 2,\n ('folk', 'began'): 1,\n ('began', 'to'): 1,\n ('to', 'perish,'): 1,\n ('perish,', 'because'): 1,\n ('because', 'atreides'): 1,\n ('atreides', 'had'): 1,\n ('had', 'done'): 1,\n ('done', 'dishonour'): 1,\n ('dishonour', 'to'): 1,\n ('to', 'chryses'): 1,\n ('chryses', 'the'): 1,\n ('the', 'priest.'): 1,\n ('priest.', 'for'): 1,\n ('for', 'the'): 2,\n ('the', 'priest'): 2,\n ('priest', 'had'): 1,\n ('had', 'come'): 1,\n ('come', 'to'): 1,\n ('to', 'the'): 3,\n ('the', \"achaians'\"): 1,\n (\"achaians'\", 'fleet'): 1,\n ('fleet', 'ships'): 1,\n ('ships', 'to'): 1,\n ('to', 'win'): 1,\n ('win', 'his'): 1,\n ('his', \"daughter's\"): 1,\n (\"daughter's\", 'freedom,'): 1,\n ('freedom,', 'and'): 1,\n ('and', 'brought'): 1,\n ('brought', 'a'): 1,\n ('a', 'ransom'): 1,\n ('ransom', 'beyond'): 1,\n ('beyond', 'telling;'): 1,\n ('telling;', 'and'): 1,\n ('and', 'bare'): 1,\n ('bare', 'in'): 1,\n ('in', 'his'): 3,\n ('his', 'hands'): 1,\n ('hands', 'the'): 1,\n ('the', 'fillet'): 1,\n ('fillet', 'of'): 2,\n ('of', 'apollo'): 1,\n ('apollo', 'the'): 1,\n ('the', 'far-darter'): 1,\n ('far-darter', 'upon'): 1,\n ('upon', 'a'): 1,\n ('a', 'golden'): 1,\n ('golden', 'staff;'): 1,\n ('staff;', 'and'): 1,\n ('and', 'made'): 1,\n ('made', 'his'): 1,\n ('his', 'prayer'): 1,\n ('prayer', 'unto'): 1,\n ('unto', 'all'): 1,\n ('all', 'the'): 3,\n ('the', 'achaians,'): 1,\n ('achaians,', 'and'): 1,\n ('and', 'most'): 1,\n ('most', 'of'): 1,\n ('of', 'all'): 1,\n ('all', 'to'): 1,\n ('the', 'two'): 1,\n ('two', 'sons'): 1,\n ('sons', 'of'): 2,\n ('of', 'atreus,'): 3,\n ('atreus,', 'orderers'): 1,\n ('orderers', 'of'): 1,\n ('of', 'the'): 8,\n ('the', 'host;'): 2,\n ('host;', '\"ye'): 1,\n ('\"ye', 'sons'): 1,\n ('of', 'atreus'): 1,\n ('atreus', 'and'): 1,\n ('all', 'ye'): 1,\n ('ye', 'well-greaved'): 1,\n ('well-greaved', 'achaians,'): 1,\n ('achaians,', 'now'): 1,\n ('now', 'may'): 1,\n ('may', 'the'): 1,\n ('gods', 'that'): 1,\n ('that', 'dwell'): 1,\n ('dwell', 'in'): 1,\n ('in', 'the'): 1,\n ('the', 'mansions'): 1,\n ('mansions', 'of'): 1,\n ('of', 'olympus'): 2,\n ('olympus', 'grant'): 1,\n ('grant', 'you'): 1,\n ('you', 'to'): 1,\n ('to', 'lay'): 1,\n ('lay', 'waste'): 1,\n ('waste', 'the'): 1,\n ('the', 'city'): 1,\n ('city', 'of'): 1,\n ('of', 'priam,'): 1,\n ('priam,', 'and'): 1,\n ('and', 'to'): 1,\n ('to', 'fare'): 1,\n ('fare', 'happily'): 1,\n ('happily', 'homeward;'): 1,\n ('homeward;', 'only'): 1,\n ('only', 'set'): 1,\n ('set', 'ye'): 1,\n ('ye', 'my'): 1,\n ('my', 'dear'): 1,\n ('dear', 'child'): 1,\n ('child', 'free,'): 1,\n ('free,', 'and'): 1,\n ('and', 'accept'): 2,\n ('accept', 'the'): 2,\n ('the', 'ransom'): 1,\n ('ransom', 'in'): 1,\n ('in', 'reverence'): 1,\n ('reverence', 'to'): 1,\n ('of', 'zeus,'): 1,\n ('zeus,', 'far-darting'): 1,\n ('far-darting', 'apollo.\"'): 1,\n ('apollo.\"', 'then'): 1,\n ('then', 'all'): 1,\n ('the', 'other'): 1,\n ('other', 'achaians'): 1,\n ('achaians', 'cried'): 1,\n ('cried', 'assent,'): 1,\n ('assent,', 'to'): 1,\n ('to', 'reverence'): 1,\n ('reverence', 'the'): 1,\n ('priest', 'and'): 1,\n ('accept', 'his'): 1,\n ('his', 'goodly'): 1,\n ('goodly', 'ransom;'): 1,\n ('ransom;', 'yet'): 1,\n ('yet', 'the'): 1,\n ('the', 'thing'): 1,\n ('thing', 'pleased'): 1,\n ('pleased', 'not'): 1,\n ('not', 'the'): 1,\n ('the', 'heart'): 1,\n ('heart', 'of'): 1,\n ('of', 'agamemnon'): 1,\n ('agamemnon', 'son'): 1,\n ('atreus,', 'but'): 1,\n ('but', 'he'): 1,\n ('he', 'roughly'): 1,\n ('roughly', 'sent'): 1,\n ('sent', 'him'): 1,\n ('him', 'away,'): 1,\n ('away,', 'and'): 1,\n ('and', 'laid'): 1,\n ('laid', 'stern'): 1,\n ('stern', 'charge'): 1,\n ('charge', 'upon'): 1,\n ('upon', 'him,'): 1,\n ('him,', 'saying:'): 1,\n ('saying:', '\"let'): 1,\n ('\"let', 'me'): 1,\n ('me', 'not'): 1,\n ('not', 'find'): 1,\n ('find', 'thee,'): 1,\n ('thee,', 'old'): 1,\n ('old', 'man,'): 1,\n ('man,', 'amid'): 1,\n ('amid', 'the'): 1,\n ('the', 'hollow'): 1,\n ('hollow', 'ships,'): 1,\n ('ships,', 'whether'): 1,\n ('whether', 'tarrying'): 1,\n ('tarrying', 'now'): 1,\n ('now', 'or'): 1,\n ('or', 'returning'): 1,\n ('returning', 'again'): 1,\n ('again', 'hereafter,'): 1,\n ('hereafter,', 'lest'): 1,\n ('lest', 'the'): 1,\n ('the', 'staff'): 1,\n ('staff', 'and'): 1,\n ('and', 'fillet'): 1,\n ('the', 'god'): 2,\n ('god', 'avail'): 1,\n ('avail', 'thee'): 1,\n ('thee', 'naught.'): 1,\n ('naught.', 'and'): 1,\n ('and', 'her'): 1,\n ('her', 'will'): 1,\n ('will', 'i'): 2,\n ('i', 'not'): 1,\n ('not', 'set'): 1,\n ('set', 'free;'): 1,\n ('free;', 'nay,'): 1,\n ('nay,', 'ere'): 1,\n ('ere', 'that'): 1,\n ('that', 'shall'): 1,\n ('shall', 'old'): 1,\n ('old', 'age'): 1,\n ('age', 'come'): 1,\n ('come', 'on'): 1,\n ('on', 'her'): 1,\n ('her', 'in'): 1,\n ('in', 'our'): 1,\n ('our', 'house,'): 1,\n ('house,', 'in'): 1,\n ('in', 'argos,'): 1,\n ('argos,', 'far'): 1,\n ('far', 'from'): 1,\n ('from', 'her'): 1,\n ('her', 'native'): 1,\n ('native', 'land,'): 1,\n ('land,', 'where'): 1,\n ('where', 'she'): 1,\n ('she', 'shall'): 1,\n ('shall', 'ply'): 1,\n ('ply', 'the'): 1,\n ('the', 'loom'): 1,\n ('loom', 'and'): 1,\n ('and', 'serve'): 1,\n ('serve', 'my'): 1,\n ('my', 'couch.'): 1,\n ('couch.', 'but'): 1,\n ('but', 'depart,'): 1,\n ('depart,', 'provoke'): 1,\n ('provoke', 'me'): 1,\n ('me', 'not,'): 1,\n ('not,', 'that'): 1,\n ('that', 'thou'): 1,\n ('thou', 'mayest'): 1,\n ('mayest', 'the'): 1,\n ('the', 'rather'): 1,\n ('rather', 'go'): 1,\n ('go', 'in'): 1,\n ('in', 'peace.\"'): 1,\n ('peace.\"', 'so'): 1,\n ('so', 'said'): 1,\n ('said', 'he,'): 1,\n ('he,', 'and'): 1,\n ('and', 'the'): 3,\n ('the', 'old'): 1,\n ('old', 'man'): 1,\n ('man', 'was'): 1,\n ('was', 'afraid'): 1,\n ('afraid', 'and'): 1,\n ('and', 'obeyed'): 1,\n ('obeyed', 'his'): 1,\n ('his', 'word,'): 1,\n ('word,', 'and'): 1,\n ('and', 'fared'): 1,\n ('fared', 'silently'): 1,\n ('silently', 'along'): 1,\n ('along', 'the'): 1,\n ('the', 'shore'): 1,\n ('shore', 'of'): 1,\n ('the', 'loud-sounding'): 1,\n ('loud-sounding', 'sea.'): 1,\n ('sea.', 'then'): 1,\n ('then', 'went'): 1,\n ('went', 'that'): 1,\n ('that', 'aged'): 1,\n ('aged', 'man'): 1,\n ('man', 'apart'): 1,\n ('apart', 'and'): 1,\n ('and', 'prayed'): 1,\n ('prayed', 'aloud'): 1,\n ('aloud', 'to'): 1,\n ('to', 'king'): 1,\n ('king', 'apollo,'): 1,\n ('apollo,', 'whom'): 1,\n ('whom', 'leto'): 1,\n ('leto', 'of'): 1,\n ('the', 'fair'): 1,\n ('fair', 'locks'): 1,\n ('locks', 'bare:'): 1,\n ('bare:', '\"hear'): 1,\n ('\"hear', 'me,'): 1,\n ('me,', 'god'): 1,\n ('god', 'of'): 1,\n ('the', 'silver'): 2,\n ('silver', 'bow,'): 1,\n ('bow,', 'that'): 1,\n ('that', 'standest'): 1,\n ('standest', 'over'): 1,\n ('over', 'chryse'): 1,\n ('chryse', 'and'): 1,\n ('and', 'holy'): 1,\n ('holy', 'killa,'): 1,\n ('killa,', 'and'): 1,\n ('and', 'rulest'): 1,\n ('rulest', 'tenedos'): 1,\n ('tenedos', 'with'): 1,\n ('with', 'might,'): 2,\n ('might,', 'o'): 1,\n ('o', 'smintheus!'): 1,\n ('smintheus!', 'if'): 1,\n ('if', 'ever'): 2,\n ('ever', 'i'): 2,\n ('i', 'built'): 1,\n ('built', 'a'): 1,\n ('a', 'temple'): 1,\n ('temple', 'gracious'): 1,\n ('gracious', 'in'): 1,\n ('in', 'thine'): 1,\n ('thine', 'eyes,'): 1,\n ('eyes,', 'or'): 1,\n ('or', 'if'): 1,\n ('i', 'burnt'): 1,\n ('burnt', 'to'): 1,\n ('to', 'thee'): 1,\n ('thee', 'fat'): 1,\n ('fat', 'flesh'): 1,\n ('flesh', 'of'): 1,\n ('of', 'thighs'): 1,\n ('thighs', 'of'): 1,\n ('of', 'bulls'): 1,\n ('bulls', 'or'): 1,\n ('or', 'goats,'): 1,\n ('goats,', 'fulfil'): 1,\n ('fulfil', 'thou'): 1,\n ('thou', 'this'): 1,\n ('this', 'my'): 1,\n ('my', 'desire;'): 1,\n ('desire;', 'let'): 1,\n ('let', 'the'): 1,\n ('the', 'danaans'): 2,\n ('danaans', 'pay'): 1,\n ('pay', 'by'): 1,\n ('by', 'thine'): 1,\n ('thine', 'arrows'): 1,\n ('arrows', 'for'): 1,\n ('for', 'my'): 1,\n ('my', 'tears.\"'): 1,\n ('tears.\"', 'so'): 1,\n ('so', 'spake'): 2,\n ('spake', 'he'): 2,\n ('in', 'prayer,'): 1,\n ('prayer,', 'and'): 1,\n ('and', 'phoebus'): 1,\n ('phoebus', 'apollo'): 3,\n ('apollo', 'heard'): 1,\n ('heard', 'him,'): 1,\n ('him,', 'and'): 1,\n ('and', 'came'): 1,\n ('came', 'down'): 1,\n ('down', 'from'): 1,\n ('the', 'peaks'): 1,\n ('peaks', 'of'): 1,\n ('olympus', 'wroth'): 1,\n ('wroth', 'at'): 1,\n ('at', 'heart,'): 1,\n ('heart,', 'bearing'): 1,\n ('bearing', 'on'): 1,\n ('on', 'his'): 1,\n ('his', 'shoulders'): 2,\n ('shoulders', 'his'): 1,\n ('his', 'bow'): 1,\n ('bow', 'and'): 1,\n ('and', 'covered'): 1,\n ('covered', 'quiver.'): 1,\n ('quiver.', 'and'): 1,\n ('the', 'arrows'): 1,\n ('arrows', 'clanged'): 1,\n ('clanged', 'upon'): 1,\n ('upon', 'his'): 1,\n ('shoulders', 'in'): 1,\n ('in', 'wrath,'): 1,\n ('wrath,', 'as'): 1,\n ('as', 'the'): 1,\n ('god', 'moved;'): 1,\n ('moved;', 'and'): 1,\n ('and', 'he'): 1,\n ('he', 'descended'): 1,\n ('descended', 'like'): 1,\n ('like', 'to'): 1,\n ('to', 'night.'): 1,\n ('night.', 'then'): 1,\n ('then', 'he'): 1,\n ('he', 'sate'): 1,\n ('sate', 'him'): 2,\n ('him', 'aloof'): 1,\n ('aloof', 'from'): 1,\n ('the', 'ships,'): 1,\n ('ships,', 'and'): 1,\n ('and', 'let'): 1,\n ('let', 'an'): 1,\n ('an', 'arrow'): 1,\n ('arrow', 'fly;'): 1,\n ('fly;', 'and'): 1,\n ('and', 'there'): 2,\n ('there', 'was'): 1,\n ('was', 'heard'): 1,\n ('heard', 'a'): 1,\n ('a', 'dread'): 1,\n ('dread', 'clanging'): 1,\n ('clanging', 'of'): 1,\n ('silver', 'bow.'): 1,\n ('bow.', 'first'): 1,\n ('first', 'did'): 1,\n ('did', 'the'): 1,\n ('the', 'assail'): 1,\n ('assail', 'the'): 1,\n ('the', 'mules'): 1,\n ('mules', 'and'): 1,\n ('and', 'fleet'): 1,\n ('fleet', 'dogs,'): 1,\n ('dogs,', 'but'): 1,\n ('but', 'afterward,'): 1,\n ('afterward,', 'aiming'): 1,\n ('aiming', 'at'): 1,\n ('the', 'men'): 1,\n ('men', 'his'): 1,\n ('his', 'piercing'): 1,\n ('piercing', 'dart,'): 1,\n ('dart,', 'he'): 1,\n ('he', 'smote;'): 1,\n ('smote;', 'and'): 1,\n ('the', 'pyres'): 1,\n ('pyres', 'of'): 1,\n ('the', 'dead'): 1,\n ('dead', 'burnt'): 1,\n ('burnt', 'continually'): 1,\n ('continually', 'in'): 1,\n ('in', 'multitude.'): 1,\n ('multitude.', 'now'): 1,\n ('now', 'for'): 1,\n ('for', 'nine'): 1,\n ('nine', 'days'): 1,\n ('days', 'ranged'): 1,\n ('ranged', 'the'): 1,\n ('the', \"god's\"): 1,\n (\"god's\", 'shafts'): 1,\n ('shafts', 'through'): 1,\n ('through', 'the'): 1,\n ('host;', 'but'): 1,\n ('but', 'on'): 1,\n ('the', 'tenth'): 1,\n ('tenth', 'achilles'): 1,\n ('achilles', 'summoned'): 1,\n ('summoned', 'the'): 1,\n ('folk', 'to'): 1,\n ('to', 'assembly,'): 1,\n ('assembly,', 'for'): 1,\n ('for', 'in'): 1,\n ('his', 'mind'): 1,\n ('mind', 'did'): 1,\n ('did', 'goddess'): 1,\n ('goddess', 'hera'): 1,\n ('hera', 'of'): 1,\n ('of', 'white'): 1,\n ('white', 'arms'): 1,\n ('arms', 'put'): 1,\n ('put', 'the'): 1,\n ('the', 'thought,'): 1,\n ('thought,', 'because'): 1,\n ('because', 'she'): 1,\n ('she', 'had'): 1,\n ('had', 'pity'): 1,\n ('pity', 'on'): 1,\n ('danaans', 'when'): 1,\n ('when', 'she'): 1,\n ('she', 'beheld'): 1,\n ('beheld', 'them'): 1,\n ('them', 'perishing.'): 1,\n ('perishing.', 'now'): 1,\n ('now', 'when'): 1,\n ('when', 'they'): 1,\n ('they', 'had'): 1,\n ('had', 'gathered'): 1,\n ('gathered', 'and'): 1,\n ('and', 'were'): 1,\n ('were', 'met'): 1,\n ('met', 'in'): 1,\n ('in', 'assembly,'): 1,\n ('assembly,', 'then'): 1,\n ('then', 'achilles'): 1,\n ('achilles', 'fleet'): 1,\n ('fleet', 'of'): 1,\n ('of', 'foot'): 1,\n ('foot', 'stood'): 1,\n ('stood', 'up'): 2,\n ('up', 'and'): 1,\n ('and', 'spake'): 2,\n ('spake', 'among'): 1,\n ('among', 'them:'): 1,\n ('them:', '\"son'): 1,\n ('\"son', 'of'): 1,\n ('atreus,', 'now'): 1,\n ('now', 'deem'): 1,\n ('deem', 'i'): 1,\n ('i', 'that'): 1,\n ('that', 'we'): 1,\n ('we', 'shall'): 1,\n ('shall', 'return'): 1,\n ('return', 'wandering'): 1,\n ('wandering', 'home'): 1,\n ('home', 'again--if'): 1,\n ('again--if', 'verily'): 1,\n ('verily', 'we'): 1,\n ('we', 'might'): 1,\n ('might', 'escape'): 1,\n ('escape', 'death--if'): 1,\n ('death--if', 'war'): 1,\n ('war', 'at'): 1,\n ('at', 'once'): 1,\n ('once', 'and'): 1,\n ('and', 'pestilence'): 1,\n ('pestilence', 'must'): 1,\n ('must', 'indeed'): 1,\n ('indeed', 'ravage'): 1,\n ('ravage', 'the'): 1,\n ('the', 'achaians.'): 1,\n ('achaians.', 'but'): 1,\n ('but', 'come,'): 1,\n ('come,', 'let'): 1,\n ('let', 'us'): 1,\n ('us', 'now'): 1,\n ('now', 'inquire'): 1,\n ('inquire', 'of'): 1,\n ('of', 'some'): 1,\n ('some', 'soothsayer'): 1,\n ('soothsayer', 'or'): 1,\n ('or', 'priest,'): 1,\n ('priest,', 'yea,'): 1,\n ('yea,', 'or'): 1,\n ('or', 'an'): 1,\n ('an', 'interpreter'): 1,\n ('interpreter', 'of'): 1,\n ('of', 'dreams--seeing'): 1,\n ('dreams--seeing', 'that'): 1,\n ('that', 'a'): 1,\n ('a', 'dream'): 1,\n ('dream', 'too'): 1,\n ('too', 'is'): 1,\n ('is', 'of'): 1,\n ('of', 'zeus--who'): 1,\n ('zeus--who', 'shall'): 1,\n ('shall', 'say'): 1,\n ('say', 'wherefore'): 1,\n ('wherefore', 'phoebus'): 1,\n ('apollo', 'is'): 1,\n ('is', 'so'): 1,\n ('so', 'wroth,'): 1,\n ('wroth,', 'whether'): 1,\n ('whether', 'he'): 1,\n ('he', 'blame'): 1,\n ('blame', 'us'): 1,\n ('us', 'by'): 1,\n ('by', 'reason'): 1,\n ('reason', 'of'): 1,\n ('of', 'vow'): 1,\n ('vow', 'or'): 1,\n ('or', 'hecatomb;'): 1,\n ('hecatomb;', 'if'): 1,\n ('if', 'perchance'): 1,\n ('perchance', 'he'): 1,\n ('he', 'would'): 1,\n ('would', 'accept'): 1,\n ('the', 'savour'): 1,\n ('savour', 'of'): 1,\n ('of', 'lambs'): 1,\n ('lambs', 'or'): 1,\n ('or', 'unblemished'): 1,\n ('unblemished', 'goats,'): 1,\n ('goats,', 'and'): 1,\n ('so', 'would'): 1,\n ('would', 'take'): 1,\n ('take', 'away'): 1,\n ('away', 'the'): 1,\n ('the', 'pestilence'): 1,\n ('pestilence', 'from'): 1,\n ('from', 'us.\"'): 1,\n ('us.\"', 'so'): 1,\n ('he', 'and'): 1,\n ('and', 'sate'): 1,\n ('him', 'down;'): 1,\n ('down;', 'and'): 1,\n ('there', 'stood'): 1,\n ('up', 'before'): 1,\n ('before', 'them'): 1,\n ('them', 'kalchas'): 1,\n ('kalchas', 'son'): 1,\n ('of', 'thestor,'): 1,\n ('thestor,', 'most'): 1,\n ('most', 'excellent'): 1,\n ('excellent', 'far'): 1,\n ('far', 'of'): 1,\n ('of', 'augurs,'): 1,\n ('augurs,', 'who'): 1,\n ('who', 'knew'): 1,\n ('knew', 'both'): 1,\n ('both', 'things'): 1,\n ('things', 'that'): 1,\n ('that', 'were'): 1,\n ('were', 'and'): 1,\n ('and', 'that'): 2,\n ('that', 'should'): 1,\n ('should', 'be'): 1,\n ('be', 'and'): 1,\n ('that', 'had'): 1,\n ('had', 'been'): 1,\n ('been', 'before,'): 1,\n ('before,', 'and'): 1,\n ('and', 'guided'): 1,\n ('guided', 'the'): 1,\n ('the', 'ships'): 1,\n ('ships', 'of'): 1,\n ('achaians', 'to'): 1,\n ('to', 'ilios'): 1,\n ('ilios', 'by'): 1,\n ('by', 'his'): 1,\n ('his', 'soothsaying'): 1,\n ('soothsaying', 'that'): 1,\n ('that', 'phoebus'): 1,\n ('apollo', 'bestowed'): 1,\n ('bestowed', 'on'): 1,\n ('on', 'him.'): 1,\n ('him.', 'he'): 1,\n ('he', 'of'): 1,\n ('of', 'good'): 1,\n ('good', 'intent'): 1,\n ('intent', 'made'): 1,\n ('made', 'harangue'): 1,\n ('harangue', 'and'): 1,\n ('spake', 'amid'): 1,\n ('amid', 'them:'): 1,\n ('them:', '\"achilles,'): 1,\n ('\"achilles,', 'dear'): 1,\n ('dear', 'to'): 1,\n ('to', 'zeus,'): 1,\n ('zeus,', 'thou'): 1,\n ('thou', 'biddest'): 1,\n ('biddest', 'me'): 1,\n ('me', 'tell'): 1,\n ('tell', 'the'): 1,\n ('of', 'apollo,'): 1,\n ('king', 'that'): 1,\n ('that', 'smiteth'): 1,\n ('smiteth', 'afar.'): 1,\n ('afar.', 'therefore'): 1,\n ('therefore', 'will'): 1,\n ('i', 'speak;'): 1,\n ('speak;', 'but'): 1,\n ('but', 'do'): 1,\n ('do', 'thou'): 1,\n ('thou', 'make'): 1,\n ('make', 'covenant'): 1,\n ('covenant', 'with'): 1,\n ('with', 'me,'): 1,\n ('me,', 'and'): 1,\n ('and', 'swear'): 1,\n ('swear', 'that'): 1,\n ('that', 'verily'): 1,\n ('verily', 'with'): 1,\n ('with', 'all'): 1,\n ('all', 'thy'): 1,\n ('thy', 'heart'): 1,\n ('heart', 'thou'): 1,\n ('thou', 'wilt'): 2,\n ('wilt', 'aid'): 1,\n ('aid', 'me'): 1,\n ('me', 'both'): 1,\n ('both', 'by'): 1,\n ('by', 'word'): 1,\n ('word', 'and'): 1,\n ('and', 'deed.'): 1,\n ('deed.', 'for'): 1,\n ('for', 'of'): 1,\n ('of', 'a'): 1,\n ('a', 'truth'): 1,\n ('truth', 'i'): 1,\n ('i', 'deem'): 1,\n ('deem', 'that'): 1,\n ('that', 'i'): 1,\n ('i', 'shall'): 1,\n ('shall', 'provoke'): 1,\n ('provoke', 'one'): 1,\n ('one', 'that'): 1,\n ('that', 'ruleth'): 1,\n ('ruleth', 'all'): 1,\n ('the', 'argives'): 1,\n ('argives', 'with'): 1,\n ('might,', 'and'): 1,\n ('and', 'whom'): 1,\n ('whom', 'the'): 1,\n ('achaians', 'obey.'): 1,\n ('obey.', 'for'): 1,\n ('for', 'a'): 1,\n ('a', 'king'): 1,\n ('king', 'is'): 1,\n ('is', 'more'): 1,\n ('more', 'of'): 1,\n ('of', 'might'): 1,\n ('might', 'when'): 1,\n ('when', 'he'): 1,\n ('he', 'is'): 1,\n ('is', 'wroth'): 1,\n ('wroth', 'with'): 1,\n ('with', 'a'): 1,\n ('a', 'meaner'): 1,\n ('meaner', 'man;'): 1,\n ('man;', 'even'): 1,\n ('even', 'though'): 1,\n ('though', 'for'): 1,\n ('the', 'one'): 1,\n ('one', 'day'): 1,\n ('day', 'he'): 1,\n ('he', 'swallow'): 1,\n ('swallow', 'his'): 1,\n ('his', 'anger,'): 1,\n ('anger,', 'yet'): 1,\n ('yet', 'doth'): 1,\n ('doth', 'he'): 1,\n ('he', 'still'): 1,\n ('still', 'keep'): 1,\n ('keep', 'his'): 1,\n ('his', 'displeasure'): 1,\n ('displeasure', 'thereafter'): 1,\n ('thereafter', 'in'): 1,\n ('his', 'breast'): 1,\n ('breast', 'till'): 1,\n ('till', 'he'): 1,\n ('he', 'accomplish'): 1,\n ('accomplish', 'it.'): 1,\n ('it.', 'consider'): 1,\n ('consider', 'thou,'): 1,\n ('thou,', 'then,'): 1,\n ('then,', 'if'): 1,\n ('if', 'thou'): 1,\n ('wilt', 'hold'): 1,\n ('hold', 'me'): 1,\n ('me', 'safe.\"'): 1}"
     },
     "execution_count": 380,
     "metadata": {},
     "output_type": "execute_result"
    }
   ],
   "source": [
    "bigram_freq"
   ],
   "metadata": {
    "collapsed": false,
    "ExecuteTime": {
     "end_time": "2023-10-10T18:39:09.393757200Z",
     "start_time": "2023-10-10T18:39:09.381758200Z"
    }
   },
   "id": "91226419df57327e"
  }
 ],
 "metadata": {
  "kernelspec": {
   "display_name": "Python 3",
   "language": "python",
   "name": "python3"
  },
  "language_info": {
   "codemirror_mode": {
    "name": "ipython",
    "version": 2
   },
   "file_extension": ".py",
   "mimetype": "text/x-python",
   "name": "python",
   "nbconvert_exporter": "python",
   "pygments_lexer": "ipython2",
   "version": "2.7.6"
  }
 },
 "nbformat": 4,
 "nbformat_minor": 5
}
