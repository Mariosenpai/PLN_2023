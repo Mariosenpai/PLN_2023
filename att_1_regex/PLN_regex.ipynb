{
  "nbformat": 4,
  "nbformat_minor": 0,
  "metadata": {
    "colab": {
      "provenance": []
    },
    "kernelspec": {
      "name": "python3",
      "display_name": "Python 3"
    },
    "language_info": {
      "name": "python"
    }
  },
  "cells": [
    {
      "cell_type": "code",
      "source": [
        "import re"
      ],
      "metadata": {
        "id": "WFAXe1oXYifS"
      },
      "execution_count": 2,
      "outputs": []
    },
    {
      "cell_type": "markdown",
      "source": [
        "#Fazer a lista de exercício em um arquivo texto, converter em pdf e fazer o upload com as respostas.\n",
        "\n",
        "1.Escreva expressões regulares para:\n",
        "\n",
        "a) Corresponder à palavra \"viagra\" e a alguns dos disfarces que remetentes de spam usam, como: vi@gra ; v1agra; v1@gra; v!@gr@\n",
        "\n",
        "b) Corresponder a qualquer endereço de e-mail dos domínios nca.ufma  e ufpi.edu.br\n",
        "\n",
        "c) Corresponder a qualquer endereço IP com a variação de 192.168.1.0 a 192.168.1.255.\n",
        "\n",
        "d) Corresponder aos números de ordem de compra (PO) de sua empresa. Esse número tem vários formatos possíveis, como:\n",
        "\n",
        "POnn-nnnnn;\n",
        "\n",
        "PO-nn-nnnn;\n",
        "\n",
        "PO# nn nnnn;\n",
        "\n",
        "PO#nn-nnnn;\n",
        "\n",
        "PO nnnnnn\n",
        "'"
      ],
      "metadata": {
        "id": "WQp3veiQYbdq"
      }
    },
    {
      "cell_type": "markdown",
      "source": [
        "**a) Corresponder à palavra \"viagra\" e a alguns dos disfarces que remetentes de spam usam, como: vi@gra ; v1agra; v1@gra; v!@gr@**"
      ],
      "metadata": {
        "id": "Szv84NzsYpkJ"
      }
    },
    {
      "cell_type": "code",
      "execution_count": null,
      "metadata": {
        "colab": {
          "base_uri": "https://localhost:8080/"
        },
        "id": "0S-ffGcGYLeF",
        "outputId": "b9a28cd1-85ba-4783-f5f3-34b9d236ebc0"
      },
      "outputs": [
        {
          "output_type": "stream",
          "name": "stdout",
          "text": [
            "['vi@gra', 'v1agra', 'v1@gra', 'v!@gr@']\n"
          ]
        }
      ],
      "source": [
        "padrao = r'[vV]..[gG][rR].'\n",
        "regax = re.findall(padrao,'vi@gra ; v1agra; v1@gra; v!@gr@')\n",
        "print(regax)"
      ]
    },
    {
      "cell_type": "markdown",
      "source": [
        "**Exemplicação**: Podendo haver uma variedade de outro caracteres que podem ser substituidos pelas vogas optes por usar o '.' e deixei as consoantes fixas podendo ser minuscula ou maiúscula.\n",
        "\n",
        "Contudo existem outros padros que podem ser abordados como:\n",
        "\n",
        "`[vV][iI!l1][aA@4][gG][rR][aA@4]`"
      ],
      "metadata": {
        "id": "HSdbhJ5K3u4Y"
      }
    },
    {
      "cell_type": "markdown",
      "source": [
        "**b) Corresponder a qualquer endereço de e-mail dos domínios nca.ufma e ufpi.edu.br**"
      ],
      "metadata": {
        "id": "aNSqSjPqdmhh"
      }
    },
    {
      "cell_type": "code",
      "source": [
        "padrao = r'[a-zA-Z!#$%^&*(),.?\":{}|<>]{5,}@(?:nca.ufma|ufpi.edu.br)'\n",
        "regax = re.findall(padrao,'mario.freitas@nca.ufma ; mario.freitas@ufpi.edu.br ')\n",
        "print(regax)"
      ],
      "metadata": {
        "colab": {
          "base_uri": "https://localhost:8080/"
        },
        "id": "gftiKdc8dp-p",
        "outputId": "a1246282-f71f-4298-df74-1abf4670e44a"
      },
      "execution_count": 3,
      "outputs": [
        {
          "output_type": "stream",
          "name": "stdout",
          "text": [
            "['mario.freitas@nca.ufma', 'mario.freitas@ufpi.edu.br']\n"
          ]
        }
      ]
    },
    {
      "cell_type": "markdown",
      "source": [
        "**Explicação**: A primeira expreção descrita como '[a-zA-Z!#$%^&*(),.?\":{}|<>]+'\n",
        "indica que pode haver letra maisculas e minusculas 'a-zA-Z', um conjunto predeterminado de caracteres especiais e por ultimo um '{5,}' no final dessa primeira parte indicando que precisa ter pelo menos 5 caracteres\n",
        "\n",
        "Obs: poderia bota o '+' para ser 1 ou mais ocorencia de caracteres contudo achei que não seria real ter um email como '@nca.ufma' ou '@ufpi.edu.br'\n",
        "\n",
        "Depois coloco dentro do grupo o dominio de email que eu gostaria de encontra.Antes de tudo eu boto o '?:' para não registrar esse grupo. Repito esse processo para todos os tipos de dominios de email que eu gostaria botando um '|' entre eles indicando o 'ou', podendo ser um ou outro."
      ],
      "metadata": {
        "id": "wpFevmEw1K6m"
      }
    },
    {
      "cell_type": "markdown",
      "source": [
        "**c) Corresponder a qualquer endereço IP com a variação de 192.168.1.0 a 192.168.1.255.**"
      ],
      "metadata": {
        "id": "Wq_kFIc_hASZ"
      }
    },
    {
      "cell_type": "code",
      "source": [
        "padrao = r'192\\.168\\.1\\.+\\b(?:25[0-5]|2[0-4][0-9]|[01]?[0-9][0-9]?)\\b'\n",
        "regax = re.findall(padrao,'192.168.1.0 a 192.168.1.255 192.168.1.256 ')\n",
        "print(regax)"
      ],
      "metadata": {
        "colab": {
          "base_uri": "https://localhost:8080/"
        },
        "id": "OS3ZCnc9hD_x",
        "outputId": "d48fcd6e-e1d3-47d7-8dc0-cbd33eddf2f1"
      },
      "execution_count": null,
      "outputs": [
        {
          "output_type": "stream",
          "name": "stdout",
          "text": [
            "['192.168.1.0', '192.168.1.255']\n"
          ]
        }
      ]
    },
    {
      "cell_type": "markdown",
      "source": [
        "**Exemplicação**: a viração de digitos so acontece nos ultimos numero, entao eu mantenho a sequencia fixa (192.168.1.)\n",
        "\n",
        "'\\b' garante que todo esse conjunto esta se referindo a apenas um numero\n",
        "\n",
        "'?:' serve para não considera a expressão entre () um grupo.\n",
        "\n",
        "'25[0-5]' varia de 250 a 255\n",
        "\n",
        "'2[0-4][0-9]' varia de 200 a 249\n",
        "\n",
        "'[01]?[0-9][0-9]?' varia de 0 a 199"
      ],
      "metadata": {
        "id": "ECA0JKHZoemB"
      }
    },
    {
      "cell_type": "markdown",
      "source": [
        "**d) Corresponder aos números de ordem de compra (PO) de sua empresa. Esse número tem vários formatos possíveis, como:**\n",
        "\n",
        "POnn-nnnnn;\n",
        "\n",
        "PO-nn-nnnn;\n",
        "\n",
        "PO# nn nnnn;\n",
        "\n",
        "PO#nn-nnnn;\n",
        "\n",
        "PO nnnnnn '\n"
      ],
      "metadata": {
        "id": "AbCXq6M2m3XQ"
      }
    },
    {
      "cell_type": "code",
      "source": [
        "padrao = r'PO[-#\\s]?(?:#\\s)?\\d{2}-?\\d{5}'\n",
        "regax = re.findall(padrao,'PO20-33005, PO3351236 , PO#99-12364 ,PO-90-49153, PO# 52-54321 ')\n",
        "print(regax)"
      ],
      "metadata": {
        "colab": {
          "base_uri": "https://localhost:8080/"
        },
        "id": "rqr-f4Wamz25",
        "outputId": "efbebc61-bc54-4c5b-938c-313410403781"
      },
      "execution_count": null,
      "outputs": [
        {
          "output_type": "stream",
          "name": "stdout",
          "text": [
            "['PO20-33005', 'PO3351236', 'PO#99-12364', 'PO-90-49153', 'PO# 52-54321']\n"
          ]
        }
      ]
    },
    {
      "cell_type": "markdown",
      "source": [
        "**Exemplicação**: O PO é fixo e logo depois dele pode acontece 4 variações de caracteres sendo eles ' ', '-', '#', ''(nada), esse \"nada\" é descrito pelo '?' logo apos o [- #].\n",
        "\n",
        "Eu crio um grupo onde logo em seguida eu desconsidero ele com o '?:' e coloco uma nova possivel variação que pode vim depois do 'PO' que seria o 'PO# ' e como ela pode ou não acontece eu indico isso no final do grupo com o '?'.\n",
        "\n",
        "depois disso eu tenho 2 digitos com o '\\d{2}' um traço '-' e por ultimo 5 digitos '\\d{5}'."
      ],
      "metadata": {
        "id": "Z5thvulPqucZ"
      }
    }
  ]
}